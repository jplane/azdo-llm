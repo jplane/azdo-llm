{
 "cells": [
  {
   "cell_type": "code",
   "execution_count": null,
   "metadata": {},
   "outputs": [],
   "source": [
    "import os\n",
    "\n",
    "os.environ[\"AZURE_OPENAI_ENDPOINT\"] = \"\"\n",
    "os.environ[\"AZURE_OPENAI_API_KEY\"] = \"\"\n",
    "os.environ[\"OPENAI_API_VERSION\"] = \"2023-05-15\""
   ]
  },
  {
   "cell_type": "code",
   "execution_count": null,
   "metadata": {},
   "outputs": [],
   "source": [
    "aoai_embedding_deployment_name=\"\"\n",
    "aoai_chat_deployment_name=\"\""
   ]
  },
  {
   "cell_type": "code",
   "execution_count": null,
   "metadata": {},
   "outputs": [],
   "source": [
    "azdo_org_uri=\"\"\n",
    "azdo_pat=\"\"\n",
    "azdo_project=\"\""
   ]
  },
  {
   "cell_type": "code",
   "execution_count": null,
   "metadata": {},
   "outputs": [],
   "source": [
    "from AzdoBacklogLoader import AzdoBacklogLoader\n",
    "from AzdoPullRequestLoader import AzdoPullRequestLoader\n",
    "from langchain.embeddings import AzureOpenAIEmbeddings\n",
    "from langchain.text_splitter import RecursiveCharacterTextSplitter\n",
    "from langchain.vectorstores.faiss import FAISS\n",
    "\n",
    "backlog_loader = AzdoBacklogLoader(azdo_org_uri, azdo_pat, azdo_project)\n",
    "pr_loader = AzdoPullRequestLoader(azdo_org_uri, azdo_pat, azdo_project)\n",
    "raw_docs = backlog_loader.load() + pr_loader.load()\n",
    "\n",
    "chunked_docs = RecursiveCharacterTextSplitter(chunk_size=4000, chunk_overlap=100).split_documents(raw_docs)\n",
    "\n",
    "embeddings = AzureOpenAIEmbeddings(azure_deployment=aoai_embedding_deployment_name)\n",
    "\n",
    "db = FAISS.from_documents(chunked_docs, embeddings)"
   ]
  },
  {
   "cell_type": "code",
   "execution_count": null,
   "metadata": {},
   "outputs": [],
   "source": [
    "pr_retriever = db.as_retriever(\n",
    "    search_kwargs={\n",
    "        'k': 100,\n",
    "        'fetch_k': 5000,\n",
    "        'filter': {\n",
    "            'type': 'pull_request'\n",
    "        }\n",
    "    }\n",
    ")\n",
    "\n",
    "comment_retriever = db.as_retriever(\n",
    "    search_kwargs={\n",
    "        'k': 100,\n",
    "        'fetch_k': 5000,\n",
    "        'filter': {\n",
    "            'type': 'pull_request_comment'\n",
    "        }\n",
    "    }\n",
    ")\n",
    "\n",
    "commit_retriever = db.as_retriever(\n",
    "    search_kwargs={\n",
    "        'k': 100,\n",
    "        'fetch_k': 5000,\n",
    "        'filter': {\n",
    "            'type': 'pull_request_commit'\n",
    "        }\n",
    "    }\n",
    ")\n"
   ]
  },
  {
   "cell_type": "code",
   "execution_count": null,
   "metadata": {},
   "outputs": [],
   "source": [
    "from langchain.chat_models.azure_openai import AzureChatOpenAI\n",
    "from langchain.prompts import ChatPromptTemplate\n",
    "from langchain.output_parsers import CommaSeparatedListOutputParser\n",
    "from langchain.schema.output_parser import StrOutputParser\n",
    "from langchain_core.runnables import RunnablePassthrough\n",
    "\n",
    "model = AzureChatOpenAI(azure_deployment=aoai_chat_deployment_name, temperature=0)"
   ]
  },
  {
   "cell_type": "code",
   "execution_count": null,
   "metadata": {},
   "outputs": [],
   "source": [
    "pr_template = \"\"\"Satisfy the request based only on the following context:\n",
    "{context}\n",
    "\n",
    "Get the ids for the most recent {pr_count} pull requests completed. Return them as a CSV list.\n",
    "\"\"\"\n",
    "\n",
    "pr_prompt = ChatPromptTemplate.from_template(pr_template)\n",
    "\n",
    "pr_chain = (\n",
    "    {\"context\": pr_retriever, \"pr_count\": RunnablePassthrough()}\n",
    "    | pr_prompt\n",
    "    | model\n",
    "    | StrOutputParser()\n",
    ")"
   ]
  },
  {
   "cell_type": "code",
   "execution_count": null,
   "metadata": {},
   "outputs": [],
   "source": [
    "comment_template = \"\"\"Satisfy the request based only on the following context:\n",
    "{context}\n",
    "\n",
    "For each pull request id in [{ids}], get the list of related comment authors. Create a JSON object with each pull request id and related comment author list. Return all objects as a JSON array.\n",
    "\"\"\"\n",
    "\n",
    "comment_prompt = ChatPromptTemplate.from_template(comment_template)\n",
    "\n",
    "comment_chain = (\n",
    "    {\"context\": comment_retriever, \"ids\": pr_chain}\n",
    "    | comment_prompt\n",
    "    | model\n",
    "    | StrOutputParser()\n",
    ")"
   ]
  },
  {
   "cell_type": "code",
   "execution_count": null,
   "metadata": {},
   "outputs": [],
   "source": [
    "import json\n",
    "\n",
    "json.loads(comment_chain.invoke(\"5\"))"
   ]
  }
 ],
 "metadata": {
  "kernelspec": {
   "display_name": "Python 3",
   "language": "python",
   "name": "python3"
  },
  "language_info": {
   "codemirror_mode": {
    "name": "ipython",
    "version": 3
   },
   "file_extension": ".py",
   "mimetype": "text/x-python",
   "name": "python",
   "nbconvert_exporter": "python",
   "pygments_lexer": "ipython3",
   "version": "3.10.13"
  }
 },
 "nbformat": 4,
 "nbformat_minor": 2
}
